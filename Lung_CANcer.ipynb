{
 "cells": [
  {
   "cell_type": "markdown",
   "metadata": {},
   "source": [
    "## Classification demo including training"
   ]
  },
  {
   "cell_type": "code",
   "execution_count": 1,
   "metadata": {},
   "outputs": [
    {
     "name": "stderr",
     "output_type": "stream",
     "text": [
      "Using TensorFlow backend.\n"
     ]
    }
   ],
   "source": [
    "##Import libraries\n",
    "from keras.models import Sequential\n",
    "from keras.layers import Conv2D\n",
    "from keras.layers import MaxPooling2D\n",
    "from keras.layers import Flatten\n",
    "from keras.layers import Dense"
   ]
  },
  {
   "cell_type": "code",
   "execution_count": 2,
   "metadata": {},
   "outputs": [],
   "source": [
    "## Initialising the CNN\n",
    "classifier = Sequential()"
   ]
  },
  {
   "cell_type": "code",
   "execution_count": 3,
   "metadata": {},
   "outputs": [
    {
     "name": "stdout",
     "output_type": "stream",
     "text": [
      "WARNING:tensorflow:From C:\\Users\\Abhi\\Anaconda3\\envs\\tf1\\lib\\site-packages\\tensorflow_core\\python\\ops\\resource_variable_ops.py:1630: calling BaseResourceVariable.__init__ (from tensorflow.python.ops.resource_variable_ops) with constraint is deprecated and will be removed in a future version.\n",
      "Instructions for updating:\n",
      "If using Keras pass *_constraint arguments to layers.\n",
      "WARNING:tensorflow:From C:\\Users\\Abhi\\Anaconda3\\envs\\tf1\\lib\\site-packages\\keras\\backend\\tensorflow_backend.py:4070: The name tf.nn.max_pool is deprecated. Please use tf.nn.max_pool2d instead.\n",
      "\n"
     ]
    }
   ],
   "source": [
    "## Convolution(150 ture detector of dimension 3 by 3), input shape 3 layer for color image)\n",
    "classifier.add(Conv2D(64,(3,3),input_shape=(150,150,3), activation='relu'))\n",
    "\n",
    "# MaxPooling\n",
    "classifier.add(MaxPooling2D(pool_size = (2,2)))\n",
    "\n",
    "\n",
    "classifier.add(Conv2D(64,(3,3),activation='relu'))\n",
    "classifier.add(MaxPooling2D(pool_size = (2,2)))\n",
    "\n",
    "classifier.add(Conv2D(132,(3,3),activation='relu'))\n",
    "classifier.add(MaxPooling2D(pool_size = (2,2)))\n",
    "\n",
    "\n",
    "classifier.add(Conv2D(128,(3,3),activation='relu'))\n",
    "classifier.add(MaxPooling2D(pool_size = (2,2)))\n",
    "\n",
    "classifier.add(Conv2D(132,(3,3),activation='relu'))\n",
    "classifier.add(MaxPooling2D(pool_size = (2,2)))\n"
   ]
  },
  {
   "cell_type": "code",
   "execution_count": 4,
   "metadata": {},
   "outputs": [],
   "source": [
    "## Flattening\n",
    "classifier.add(Flatten())"
   ]
  },
  {
   "cell_type": "code",
   "execution_count": 5,
   "metadata": {},
   "outputs": [],
   "source": [
    "## Fully connected ANN, Hidden ANN and output layer\n",
    "classifier.add(Dense(units = 132, activation = 'relu'))\n",
    "classifier.add(Dropout())\n",
    "classifier.add(Dense(units = 64, activation = 'relu'))"
   ]
  },
  {
   "cell_type": "code",
   "execution_count": 6,
   "metadata": {},
   "outputs": [],
   "source": [
    "#output layer\n",
    "classifier.add(Dense(units = 1, activation = 'sigmoid'))"
   ]
  },
  {
   "cell_type": "code",
   "execution_count": 7,
   "metadata": {},
   "outputs": [
    {
     "name": "stdout",
     "output_type": "stream",
     "text": [
      "WARNING:tensorflow:From C:\\Users\\Abhi\\Anaconda3\\envs\\tf1\\lib\\site-packages\\tensorflow_core\\python\\ops\\nn_impl.py:183: where (from tensorflow.python.ops.array_ops) is deprecated and will be removed in a future version.\n",
      "Instructions for updating:\n",
      "Use tf.where in 2.0, which has the same broadcast rule as np.where\n"
     ]
    }
   ],
   "source": [
    "## Compliling\n",
    "classifier.compile(optimizer = 'adam', loss = 'binary_crossentropy', metrics = ['accuracy'])"
   ]
  },
  {
   "cell_type": "code",
   "execution_count": 8,
   "metadata": {},
   "outputs": [
    {
     "name": "stdout",
     "output_type": "stream",
     "text": [
      "Model: \"sequential_1\"\n",
      "_________________________________________________________________\n",
      "Layer (type)                 Output Shape              Param #   \n",
      "=================================================================\n",
      "conv2d_1 (Conv2D)            (None, 148, 148, 64)      1792      \n",
      "_________________________________________________________________\n",
      "max_pooling2d_1 (MaxPooling2 (None, 74, 74, 64)        0         \n",
      "_________________________________________________________________\n",
      "conv2d_2 (Conv2D)            (None, 72, 72, 64)        36928     \n",
      "_________________________________________________________________\n",
      "max_pooling2d_2 (MaxPooling2 (None, 36, 36, 64)        0         \n",
      "_________________________________________________________________\n",
      "conv2d_3 (Conv2D)            (None, 34, 34, 132)       76164     \n",
      "_________________________________________________________________\n",
      "max_pooling2d_3 (MaxPooling2 (None, 17, 17, 132)       0         \n",
      "_________________________________________________________________\n",
      "conv2d_4 (Conv2D)            (None, 15, 15, 128)       152192    \n",
      "_________________________________________________________________\n",
      "max_pooling2d_4 (MaxPooling2 (None, 7, 7, 128)         0         \n",
      "_________________________________________________________________\n",
      "conv2d_5 (Conv2D)            (None, 5, 5, 132)         152196    \n",
      "_________________________________________________________________\n",
      "max_pooling2d_5 (MaxPooling2 (None, 2, 2, 132)         0         \n",
      "_________________________________________________________________\n",
      "flatten_1 (Flatten)          (None, 528)               0         \n",
      "_________________________________________________________________\n",
      "dense_1 (Dense)              (None, 132)               69828     \n",
      "_________________________________________________________________\n",
      "dense_2 (Dense)              (None, 64)                8512      \n",
      "_________________________________________________________________\n",
      "dense_3 (Dense)              (None, 1)                 65        \n",
      "=================================================================\n",
      "Total params: 497,677\n",
      "Trainable params: 497,677\n",
      "Non-trainable params: 0\n",
      "_________________________________________________________________\n"
     ]
    }
   ],
   "source": [
    "classifier.summary()"
   ]
  },
  {
   "cell_type": "code",
   "execution_count": 9,
   "metadata": {},
   "outputs": [],
   "source": [
    "## data importing and transforming and scaling\n",
    "from keras.preprocessing.image import ImageDataGenerator\n",
    "train_datagen = ImageDataGenerator(rescale=1./255)"
   ]
  },
  {
   "cell_type": "code",
   "execution_count": 10,
   "metadata": {},
   "outputs": [],
   "source": [
    "## Scaling test data\n",
    "##no  data augmentation\n",
    "test_datagen = ImageDataGenerator(rescale=1./255)"
   ]
  },
  {
   "cell_type": "code",
   "execution_count": 11,
   "metadata": {},
   "outputs": [
    {
     "name": "stdout",
     "output_type": "stream",
     "text": [
      "Found 1559 images belonging to 2 classes.\n"
     ]
    }
   ],
   "source": [
    "## Importing training data\n",
    "train_set = train_datagen.flow_from_directory(r'C:\\Users\\Abhi\\Desktop\\Class Document\\CNN Project\\train',\n",
    "                                               target_size=(150,150),\n",
    "                                               \n",
    "                                               class_mode='binary')"
   ]
  },
  {
   "cell_type": "code",
   "execution_count": 12,
   "metadata": {},
   "outputs": [
    {
     "data": {
      "text/plain": [
       "{'can': 0, 'non-can': 1}"
      ]
     },
     "execution_count": 12,
     "metadata": {},
     "output_type": "execute_result"
    }
   ],
   "source": [
    "train_set.class_indices"
   ]
  },
  {
   "cell_type": "code",
   "execution_count": 13,
   "metadata": {},
   "outputs": [
    {
     "name": "stdout",
     "output_type": "stream",
     "text": [
      "{'can': 0, 'non-can': 1}\n"
     ]
    }
   ],
   "source": [
    "#which is cat which is dog?\n",
    "label_map = (train_set.class_indices)\n",
    "print(label_map)"
   ]
  },
  {
   "cell_type": "code",
   "execution_count": 14,
   "metadata": {},
   "outputs": [
    {
     "name": "stdout",
     "output_type": "stream",
     "text": [
      "Found 248 images belonging to 2 classes.\n"
     ]
    }
   ],
   "source": [
    "## Importng test data\n",
    "test_set = test_datagen.flow_from_directory(r'C:\\Users\\Abhi\\Desktop\\Class Document\\CNN Project\\test',\n",
    "                                            target_size=(150, 150),\n",
    "            \n",
    "                                            class_mode='binary')"
   ]
  },
  {
   "cell_type": "code",
   "execution_count": 16,
   "metadata": {},
   "outputs": [
    {
     "name": "stdout",
     "output_type": "stream",
     "text": [
      "WARNING:tensorflow:From C:\\Users\\Abhi\\Anaconda3\\envs\\tf1\\lib\\site-packages\\keras\\backend\\tensorflow_backend.py:422: The name tf.global_variables is deprecated. Please use tf.compat.v1.global_variables instead.\n",
      "\n",
      "Epoch 1/30\n",
      "49/49 [==============================] - 87s 2s/step - loss: 0.6981 - accuracy: 0.4907 - val_loss: 0.6932 - val_accuracy: 0.4435\n",
      "Epoch 2/30\n",
      "49/49 [==============================] - 82s 2s/step - loss: 0.6932 - accuracy: 0.5093 - val_loss: 0.6952 - val_accuracy: 0.5121\n",
      "Epoch 3/30\n",
      "49/49 [==============================] - 87s 2s/step - loss: 0.6790 - accuracy: 0.5664 - val_loss: 0.6873 - val_accuracy: 0.4476\n",
      "Epoch 4/30\n",
      "49/49 [==============================] - 92s 2s/step - loss: 0.6251 - accuracy: 0.6523 - val_loss: 0.6994 - val_accuracy: 0.5323\n",
      "Epoch 5/30\n",
      "49/49 [==============================] - 95s 2s/step - loss: 0.4975 - accuracy: 0.7370 - val_loss: 0.4517 - val_accuracy: 0.6008\n",
      "Epoch 6/30\n",
      "49/49 [==============================] - 94s 2s/step - loss: 0.4530 - accuracy: 0.7845 - val_loss: 0.4923 - val_accuracy: 0.6976\n",
      "Epoch 7/30\n",
      "49/49 [==============================] - 97s 2s/step - loss: 0.2987 - accuracy: 0.8640 - val_loss: 0.3321 - val_accuracy: 0.6532\n",
      "Epoch 8/30\n",
      "49/49 [==============================] - 109s 2s/step - loss: 0.2447 - accuracy: 0.8852 - val_loss: 0.3710 - val_accuracy: 0.8185\n",
      "Epoch 9/30\n",
      "49/49 [==============================] - 105s 2s/step - loss: 0.1706 - accuracy: 0.9314 - val_loss: 0.7273 - val_accuracy: 0.7621\n",
      "Epoch 10/30\n",
      "49/49 [==============================] - 106s 2s/step - loss: 0.1489 - accuracy: 0.9410 - val_loss: 0.7664 - val_accuracy: 0.7379\n",
      "Epoch 11/30\n",
      "49/49 [==============================] - 102s 2s/step - loss: 0.1093 - accuracy: 0.9583 - val_loss: 0.6836 - val_accuracy: 0.8589\n",
      "Epoch 12/30\n",
      "49/49 [==============================] - 91s 2s/step - loss: 0.1075 - accuracy: 0.9570 - val_loss: 0.1185 - val_accuracy: 0.8347\n",
      "Epoch 13/30\n",
      "49/49 [==============================] - 94s 2s/step - loss: 0.0600 - accuracy: 0.9788 - val_loss: 0.4009 - val_accuracy: 0.8347\n",
      "Epoch 14/30\n",
      "49/49 [==============================] - 94s 2s/step - loss: 0.0875 - accuracy: 0.9634 - val_loss: 0.1595 - val_accuracy: 0.8548\n",
      "Epoch 15/30\n",
      "49/49 [==============================] - 104s 2s/step - loss: 0.0636 - accuracy: 0.9750 - val_loss: 0.2983 - val_accuracy: 0.8226\n",
      "Epoch 16/30\n",
      "49/49 [==============================] - 88s 2s/step - loss: 0.0666 - accuracy: 0.9750 - val_loss: 0.4953 - val_accuracy: 0.8669\n",
      "Epoch 17/30\n",
      "49/49 [==============================] - 86s 2s/step - loss: 0.0440 - accuracy: 0.9878 - val_loss: 0.6544 - val_accuracy: 0.8629\n",
      "Epoch 18/30\n",
      "49/49 [==============================] - 84s 2s/step - loss: 0.0298 - accuracy: 0.9885 - val_loss: 0.3902 - val_accuracy: 0.8105\n",
      "Epoch 19/30\n",
      "49/49 [==============================] - 85s 2s/step - loss: 0.0451 - accuracy: 0.9846 - val_loss: 0.3109 - val_accuracy: 0.8387\n",
      "Epoch 20/30\n",
      "49/49 [==============================] - 94s 2s/step - loss: 0.0286 - accuracy: 0.9897 - val_loss: 0.6620 - val_accuracy: 0.8306\n",
      "Epoch 21/30\n",
      "49/49 [==============================] - 98s 2s/step - loss: 0.0308 - accuracy: 0.9897 - val_loss: 0.7752 - val_accuracy: 0.8548\n",
      "Epoch 22/30\n",
      "49/49 [==============================] - 97s 2s/step - loss: 0.0251 - accuracy: 0.9891 - val_loss: 0.6063 - val_accuracy: 0.8508\n",
      "Epoch 23/30\n",
      "49/49 [==============================] - 97s 2s/step - loss: 0.0305 - accuracy: 0.9859 - val_loss: 0.9873 - val_accuracy: 0.7944\n",
      "Epoch 24/30\n",
      "49/49 [==============================] - 97s 2s/step - loss: 0.0292 - accuracy: 0.9872 - val_loss: 0.4988 - val_accuracy: 0.8589\n",
      "Epoch 25/30\n",
      "49/49 [==============================] - 99s 2s/step - loss: 0.0352 - accuracy: 0.9910 - val_loss: 0.6575 - val_accuracy: 0.8427\n",
      "Epoch 26/30\n",
      "49/49 [==============================] - 100s 2s/step - loss: 0.0309 - accuracy: 0.9904 - val_loss: 0.2428 - val_accuracy: 0.8105\n",
      "Epoch 27/30\n",
      "49/49 [==============================] - 110s 2s/step - loss: 0.0431 - accuracy: 0.9846 - val_loss: 0.2077 - val_accuracy: 0.8710\n",
      "Epoch 28/30\n",
      "49/49 [==============================] - 98s 2s/step - loss: 0.0211 - accuracy: 0.9923 - val_loss: 1.0247 - val_accuracy: 0.8669\n",
      "Epoch 29/30\n",
      "49/49 [==============================] - 97s 2s/step - loss: 0.0185 - accuracy: 0.9929 - val_loss: 0.4905 - val_accuracy: 0.8468\n",
      "Epoch 30/30\n",
      "49/49 [==============================] - 95s 2s/step - loss: 0.0176 - accuracy: 0.9942 - val_loss: 0.8691 - val_accuracy: 0.8427\n"
     ]
    },
    {
     "data": {
      "text/plain": [
       "<keras.callbacks.callbacks.History at 0x22919861788>"
      ]
     },
     "execution_count": 16,
     "metadata": {},
     "output_type": "execute_result"
    }
   ],
   "source": [
    "## fitting model to images\n",
    "classifier.fit_generator(\n",
    "        train_set,\n",
    "        epochs=30,\n",
    "        validation_data=test_set\n",
    "        )"
   ]
  },
  {
   "cell_type": "code",
   "execution_count": 19,
   "metadata": {},
   "outputs": [
    {
     "name": "stdout",
     "output_type": "stream",
     "text": [
      "Saved model to disk\n"
     ]
    }
   ],
   "source": [
    "#SERIALIZE MODEL TO json\n",
    "model_json=classifier.to_json()\n",
    "with open(\"model1.json\",\"w\") as json_file:\n",
    "    json_file.write(model_json)\n",
    "#serialize weights to HDF5\n",
    "classifier.save_weights(\"model1.h5\")\n",
    "print(\"Saved model to disk\")"
   ]
  },
  {
   "cell_type": "code",
   "execution_count": null,
   "metadata": {},
   "outputs": [],
   "source": []
  }
 ],
 "metadata": {
  "kernelspec": {
   "display_name": "Python 3",
   "language": "python",
   "name": "python3"
  },
  "language_info": {
   "codemirror_mode": {
    "name": "ipython",
    "version": 3
   },
   "file_extension": ".py",
   "mimetype": "text/x-python",
   "name": "python",
   "nbconvert_exporter": "python",
   "pygments_lexer": "ipython3",
   "version": "3.7.6"
  }
 },
 "nbformat": 4,
 "nbformat_minor": 2
}
